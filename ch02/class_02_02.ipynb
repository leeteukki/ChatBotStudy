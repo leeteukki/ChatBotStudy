{
 "cells": [
  {
   "cell_type": "markdown",
   "metadata": {},
   "source": [
    "# 리스트"
   ]
  },
  {
   "cell_type": "markdown",
   "metadata": {},
   "source": [
    "## 리스트란?\n",
    "<pre>\n",
    "우리는 앞서 하나의 값을 저장한 변수를 보았습니다.\n",
    "하지만 다양한 값을 담아야 할 경우는 어떻게 해야 할까요?\n",
    "\n",
    "리스트는\n",
    "여러 값을 담을 수 있는 변수를 말합니다.\n",
    "가방 = [책, 노트, 필통]\n",
    "같이요.\n",
    "그러면 리스트를 만들어 볼까요?"
   ]
  },
  {
   "cell_type": "markdown",
   "metadata": {},
   "source": [
    "### 1.리스트 만들기\n",
    "만드는 형식은 두 가지 인데 하나씩 해보죠."
   ]
  },
  {
   "cell_type": "markdown",
   "metadata": {},
   "source": [
    "#### 리스트 만들기 방법1\n",
    "<pre>\n",
    "리스트명 = [ ]\n",
    "\n",
    "리스트는 대괄호로 이루어져 있습니다.\n",
    "그 안에 값이 없는 빈 리스트 일 수도 있지요.\n",
    "다양한 값을 넣어서 리스트를 만들 수도 있어요.\n",
    "\n",
    "리스트 명은 어떤 것이어도 상관없습니다.\n",
    "다만 class, def, if, elif, else, while 등은 사용할 수 없습니다.\n",
    "숫자가 맨 처음에 오는 것도 안되요."
   ]
  },
  {
   "cell_type": "code",
   "execution_count": 6,
   "metadata": {},
   "outputs": [],
   "source": [
    "# list1 이라는 빈 리스트를 만들어 보겠습니다."
   ]
  },
  {
   "cell_type": "code",
   "execution_count": 2,
   "metadata": {},
   "outputs": [],
   "source": [
    "list1 = []"
   ]
  },
  {
   "cell_type": "code",
   "execution_count": 5,
   "metadata": {},
   "outputs": [],
   "source": [
    "# list1 이라는 이름의 리스트를 만들었습니다.\n",
    "# 이를 출력해 볼까요?"
   ]
  },
  {
   "cell_type": "code",
   "execution_count": 7,
   "metadata": {},
   "outputs": [
    {
     "name": "stdout",
     "output_type": "stream",
     "text": [
      "[]\n"
     ]
    }
   ],
   "source": [
    "print(list1)"
   ]
  },
  {
   "cell_type": "code",
   "execution_count": 8,
   "metadata": {},
   "outputs": [],
   "source": [
    "# list1에는 아무 값도 넣지 않았으므로 빈 리스트가 보이는 것을 확인 할 수 있습니다.\n",
    "# list2를 만들되 값으로 1, '철수', True를 넣어서 만들어 봅시다."
   ]
  },
  {
   "cell_type": "code",
   "execution_count": 9,
   "metadata": {},
   "outputs": [],
   "source": [
    "list2 = [1, '철수', True]"
   ]
  },
  {
   "cell_type": "code",
   "execution_count": 10,
   "metadata": {},
   "outputs": [],
   "source": [
    "# 만든 list2를 출력해 볼까요?"
   ]
  },
  {
   "cell_type": "code",
   "execution_count": 11,
   "metadata": {},
   "outputs": [
    {
     "name": "stdout",
     "output_type": "stream",
     "text": [
      "[1, '철수', True]\n"
     ]
    }
   ],
   "source": [
    "print(list2)"
   ]
  },
  {
   "cell_type": "code",
   "execution_count": 12,
   "metadata": {},
   "outputs": [],
   "source": [
    "# 값이 잘 들어가 있는 것을 확인 할 수 있습니다."
   ]
  },
  {
   "cell_type": "markdown",
   "metadata": {},
   "source": [
    "#### 리스트 만들기 방법2\n",
    "리스트 이름 = list()"
   ]
  },
  {
   "cell_type": "code",
   "execution_count": 14,
   "metadata": {},
   "outputs": [],
   "source": [
    "# 위 방법으로 list3를 만들어 볼까요?"
   ]
  },
  {
   "cell_type": "code",
   "execution_count": 15,
   "metadata": {},
   "outputs": [],
   "source": [
    "list3 = list()"
   ]
  },
  {
   "cell_type": "code",
   "execution_count": 16,
   "metadata": {},
   "outputs": [],
   "source": [
    "# 만든 list3를 출력해 봅시다."
   ]
  },
  {
   "cell_type": "code",
   "execution_count": 17,
   "metadata": {},
   "outputs": [
    {
     "name": "stdout",
     "output_type": "stream",
     "text": [
      "[]\n"
     ]
    }
   ],
   "source": [
    "print(list3)"
   ]
  },
  {
   "cell_type": "code",
   "execution_count": 18,
   "metadata": {},
   "outputs": [],
   "source": [
    "# 빈 리스트가 뜨는 것을 확인 할 수 있습니다.\n",
    "# 리스트를 만들어주는 일을 하는 list() 라는 함수를 이용해서 만들어 보았습니다.\n",
    "# 리스트에 값을 넣어서 만들 수도 있습니다.\n",
    "# list4를 '철수'를 넣어서 만들어 봅시다."
   ]
  },
  {
   "cell_type": "code",
   "execution_count": 20,
   "metadata": {},
   "outputs": [],
   "source": [
    "list4 = list('철수')"
   ]
  },
  {
   "cell_type": "code",
   "execution_count": 21,
   "metadata": {},
   "outputs": [],
   "source": [
    "# list4를 출력해 볼까요?"
   ]
  },
  {
   "cell_type": "code",
   "execution_count": 22,
   "metadata": {},
   "outputs": [
    {
     "name": "stdout",
     "output_type": "stream",
     "text": [
      "['철', '수']\n"
     ]
    }
   ],
   "source": [
    "print(list4)"
   ]
  },
  {
   "cell_type": "code",
   "execution_count": 23,
   "metadata": {},
   "outputs": [],
   "source": [
    "# 우리가 원했던건 '철수'인데 '철'과 '수'가 나왔네요.\n",
    "# 우리가 원하는 형태인 '철수'를 넣으려면 어떻게 해야할까요?\n",
    "# list4에 ['철수']를 넣어 만들어 봅시다."
   ]
  },
  {
   "cell_type": "code",
   "execution_count": 24,
   "metadata": {},
   "outputs": [],
   "source": [
    "list4 = list(['철수'])"
   ]
  },
  {
   "cell_type": "code",
   "execution_count": 25,
   "metadata": {},
   "outputs": [],
   "source": [
    "# 다시 list4를 출력해 볼까요?"
   ]
  },
  {
   "cell_type": "code",
   "execution_count": 26,
   "metadata": {},
   "outputs": [
    {
     "name": "stdout",
     "output_type": "stream",
     "text": [
      "['철수']\n"
     ]
    }
   ],
   "source": [
    "print(list4)"
   ]
  },
  {
   "cell_type": "code",
   "execution_count": 27,
   "metadata": {},
   "outputs": [],
   "source": [
    "# 원하는 대로 '철수'가 들어가 있는 것을 확인할 수 있습니다.\n",
    "# 그러면 list5를 만들어서 [1, '철수', True]를 넣어서 만들어 볼까요?"
   ]
  },
  {
   "cell_type": "code",
   "execution_count": 28,
   "metadata": {},
   "outputs": [],
   "source": [
    "list5 = list([1, '철수', True])"
   ]
  },
  {
   "cell_type": "code",
   "execution_count": 29,
   "metadata": {},
   "outputs": [],
   "source": [
    "# list5를 출력해서 확인해 볼까요?"
   ]
  },
  {
   "cell_type": "code",
   "execution_count": 30,
   "metadata": {},
   "outputs": [
    {
     "name": "stdout",
     "output_type": "stream",
     "text": [
      "[1, '철수', True]\n"
     ]
    }
   ],
   "source": [
    "print(list5)"
   ]
  },
  {
   "cell_type": "code",
   "execution_count": 31,
   "metadata": {},
   "outputs": [],
   "source": [
    "# 리스트 5가 잘 만들어지는 것이 보이네요."
   ]
  }
 ],
 "metadata": {
  "kernelspec": {
   "display_name": "Python 3",
   "language": "python",
   "name": "python3"
  },
  "language_info": {
   "codemirror_mode": {
    "name": "ipython",
    "version": 3
   },
   "file_extension": ".py",
   "mimetype": "text/x-python",
   "name": "python",
   "nbconvert_exporter": "python",
   "pygments_lexer": "ipython3",
   "version": "3.7.3"
  }
 },
 "nbformat": 4,
 "nbformat_minor": 2
}
